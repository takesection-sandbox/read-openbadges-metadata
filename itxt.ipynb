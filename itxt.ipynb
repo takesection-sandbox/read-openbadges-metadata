{
 "cells": [
  {
   "cell_type": "markdown",
   "id": "c2d5527e",
   "metadata": {},
   "source": [
    "# デジタルバッジのメタデータの読み取り"
   ]
  },
  {
   "cell_type": "markdown",
   "id": "9e6454f2",
   "metadata": {},
   "source": [
    "## [Open Badges v2.0](https://www.imsglobal.org/sites/default/files/Badges/OBv2p0Final/index.html)"
   ]
  },
  {
   "cell_type": "code",
   "execution_count": 2,
   "id": "4f801be0",
   "metadata": {},
   "outputs": [
    {
     "data": {
      "text/html": [
       "<image src='badges/aws-certified-machine-learning-engineer-associate.png' width='120px'/>"
      ]
     },
     "execution_count": 2,
     "metadata": {},
     "output_type": "execute_result"
    },
    {
     "data": {
      "text/plain": [
       "openbadges"
      ]
     },
     "metadata": {},
     "output_type": "display_data"
    },
    {
     "data": {
      "text/plain": [
       "{\"@context\":\"https://w3id.org/openbadges/v2\",\"badge\":\"https://www.credly.com/api/v1/obi/v2/issuers/7b741b5c-231d-4925-8041-c64b6846f1c8/badge_classes/c6fc4fc3-4b4c-4f95-92e2-59c29ac0e451\",\"expires\":\"2028-03-27T00:00:00.000Z\",\"evidence\":[],\"id\":\"https://www.credly.com/api/v1/obi/v2/badge_assertions/a388d729-fc22-4503-9eb8-684947932757\",\"issuedOn\":\"2025-03-27T00:00:00.000Z\",\"recipient\":{\"type\":\"email\",\"identity\":\"sha256$2421e0388ccda73437fc2d4478601ac6a65479c5ec6d71f87f969cf2f4c43a45\",\"hashed\":true},\"type\":\"Assertion\",\"verification\":{\"type\":\"hosted\"}}"
      ]
     },
     "metadata": {},
     "output_type": "display_data"
    }
   ],
   "source": [
    "import pngitxt from \"npm:png-itxt\";\n",
    "import fs from \"node:fs\";\n",
    "\n",
    "const stream = fs.createReadStream('badges/aws-certified-machine-learning-engineer-associate.png')\n",
    "\n",
    "stream.pipe(pngitxt.getitxt(function(err, data) {\n",
    "    if (!err && data) {\n",
    "       Deno.jupyter.display({ \"text/plain\": data.keyword}, {\"raw\": true});\n",
    "       Deno.jupyter.display({ \"text/plain\": data.value}, {\"raw\": true});\n",
    "    }\n",
    "}));\n",
    "\n",
    "await Deno.jupyter.html`<image src='badges/aws-certified-machine-learning-engineer-associate.png' width='120px'/>`;"
   ]
  },
  {
   "cell_type": "markdown",
   "id": "dd46c7f1",
   "metadata": {},
   "source": [
    "## [Open Badges Specification Final Release Spec Version 3.0](https://www.imsglobal.org/spec/ob/v3p0/)"
   ]
  },
  {
   "cell_type": "code",
   "execution_count": 3,
   "id": "84c942fd",
   "metadata": {},
   "outputs": [
    {
     "data": {
      "text/html": [
       "<image src='badges/reactive-architecture-reactive-microservices-level-2.png' width='120px'/>"
      ]
     },
     "execution_count": 3,
     "metadata": {},
     "output_type": "execute_result"
    },
    {
     "data": {
      "text/plain": [
       "openbadgecredential"
      ]
     },
     "metadata": {},
     "output_type": "display_data"
    },
    {
     "data": {
      "text/plain": [
       "{\"@context\":[\"https://www.w3.org/ns/credentials/v2\",\"https://purl.imsglobal.org/spec/ob/v3p0/context-3.0.3.json\",\"https://purl.imsglobal.org/spec/ob/v3p0/extensions.json\"],\"id\":\"https://www.credly.com/api/v1/obi/v3/open_badge_credentials/edf48235-dc92-4eb8-adf3-58d497326f9a\",\"type\":[\"VerifiableCredential\",\"OpenBadgeCredential\"],\"credentialSchema\":[{\"id\":\"https://purl.imsglobal.org/spec/ob/v3p0/schema/json/ob_v3p0_achievementcredential_schema.json\",\"type\":\"1EdTechJsonSchemaValidator2019\"}],\"issuer\":{\"type\":[\"Profile\"],\"id\":\"did:web:www.credly.com:api:v1:obi:v3:issuers:fb3d27de-4f33-4ab5-a458-8ed2084a0212\",\"name\":\"Lightbend, Inc.\",\"email\":\"info@credly.com\",\"image\":{\"id\":\"https://images.credly.com/images/3f7446c9-2624-4c99-b947-3fc4fd366d07/blob.png\",\"type\":\"Image\",\"caption\":\"Logo of Lightbend, Inc.\"},\"url\":\"https://www.lightbend.com/\",\"description\":\"Lightbend helps digital businesses build, operate, and secure low-latency APIs, microservices, and data streams. Our customers use the Akka platform and toolkit to create massively concurrent, highly transactional cloud systems for digital experience, data, AI inference, and edge workloads.\"},\"validFrom\":\"2022-08-30T00:00:00.000Z\",\"name\":\"重樹 庄司\",\"credentialSubject\":{\"type\":[\"AchievementSubject\"],\"identifier\":[{\"type\":\"IdentityObject\",\"hashed\":true,\"identityHash\":\"sha256$e81da682c4efe62d26591ecfd588dc927508d4e28b7f3f9e3a6330ae5fe704e9\",\"identityType\":\"emailAddress\"}],\"achievement\":{\"id\":\"https://www.credly.com/api/v1/obi/v3/issuers/fb3d27de-4f33-4ab5-a458-8ed2084a0212/achievements/c5f691db-791b-4db0-8c08-f54ba2cd2d6b\",\"type\":[\"Achievement\"],\"achievementType\":\"Badge\",\"name\":\"Reactive Architecture: Reactive Microservices - Level 2\",\"description\":\"Earners of this badge understand the difference between a monolithic system, and a microservices system. They recognize the value of introducing isolation into their application to improve stability, maintainability, and scalability. They understand some of the techniques used to introduce isolation such as bulkheading, autonomy, and asynchronous messaging.\",\"image\":{\"id\":\"https://images.credly.com/images/f0e8e766-5af4-42ed-8eff-8e7210ed1d0f/LRA-ReactiveMicroservices-badge.png\",\"type\":\"Image\"},\"creator\":{\"type\":[\"Profile\"],\"id\":\"did:web:www.credly.com:api:v1:obi:v3:issuers:fb3d27de-4f33-4ab5-a458-8ed2084a0212\",\"name\":\"Lightbend, Inc.\",\"email\":\"info@credly.com\",\"image\":{\"id\":\"https://images.credly.com/images/3f7446c9-2624-4c99-b947-3fc4fd366d07/blob.png\",\"type\":\"Image\",\"caption\":\"Logo of Lightbend, Inc.\"},\"url\":\"https://www.lightbend.com/\",\"description\":\"Lightbend helps digital businesses build, operate, and secure low-latency APIs, microservices, and data streams. Our customers use the Akka platform and toolkit to create massively concurrent, highly transactional cloud systems for digital experience, data, AI inference, and edge workloads.\"},\"criteria\":{\"id\":\"https://www.credly.com/org/lightbend/badge/reactive-architecture-reactive-microservices-level-2\",\"narrative\":\"Course: Complete the Reactive Architecture: Reactive Microservices course https://academy.lightbend.com/courses/course-v1:lightbend+LRA-ReactiveMicroservices+v1/about?utm_source=badge\\u0026utm_medium=academy\\u0026utm_campaign=LBA-20XX-Academy-Badge-Page\\u0026utm_content=lra-reactive-microservices\\u0026utm_term=earning-criteria\\nOther: Review approximately 6 hours of materials including videos, quizzes, and exams. \\nAssessment: Receive a passing grade in the assessed portions of the course. \"},\"alignment\":[{\"type\":\"Alignment\",\"targetDescription\":null,\"targetName\":\"Certified Reactive Architect\",\"targetUrl\":\"https://www.lightbend.com/certified-reactive-architect\"}],\"tag\":[\"Reactive Architecture\",\"Reactive Manifesto\",\"Reactive Microservices\",\"Reactive Systems\",\"Technology Architecture\"]},\"source\":{\"type\":[\"Profile\"],\"id\":\"did:web:www.credly.com:api:v1:obi:v3:issuers:fb3d27de-4f33-4ab5-a458-8ed2084a0212\",\"name\":\"Lightbend, Inc.\",\"email\":\"info@credly.com\",\"image\":{\"id\":\"https://images.credly.com/images/3f7446c9-2624-4c99-b947-3fc4fd366d07/blob.png\",\"type\":\"Image\",\"caption\":\"Logo of Lightbend, Inc.\"},\"url\":\"https://www.lightbend.com/\",\"description\":\"Lightbend helps digital businesses build, operate, and secure low-latency APIs, microservices, and data streams. Our customers use the Akka platform and toolkit to create massively concurrent, highly transactional cloud systems for digital experience, data, AI inference, and edge workloads.\"}},\"credentialStatus\":{\"id\":\"https://www.credly.com/api/v1/obi/v3/open_badge_credentials/edf48235-dc92-4eb8-adf3-58d497326f9a/revocation_list\",\"type\":\"1EdTechRevocationList\"},\"proof\":[{\"type\":\"DataIntegrityProof\",\"created\":\"2025-10-31T14:18:01Z\",\"verificationMethod\":\"did:web:www.credly.com:api:v1:obi:v3:issuers:fb3d27de-4f33-4ab5-a458-8ed2084a0212#key-0\",\"cryptosuite\":\"eddsa-rdfc-2022\",\"proofPurpose\":\"assertionMethod\",\"proofValue\":\"z56brZWQG4eRYvkHBdCoFbJwf3g4accHHkyYWvGUNizv9LfrhbfPC2xhdFGxzExSDzAupTxKNpHERfreyovVFmmrz\"}]}"
      ]
     },
     "metadata": {},
     "output_type": "display_data"
    }
   ],
   "source": [
    "const stream = fs.createReadStream('badges/reactive-architecture-reactive-microservices-level-2.png')\n",
    "\n",
    "stream.pipe(pngitxt.getitxt(function(err, data) {\n",
    "    if (!err && data) {\n",
    "       Deno.jupyter.display({ \"text/plain\": data.keyword}, {\"raw\": true});\n",
    "       Deno.jupyter.display({ \"text/plain\": data.value}, {\"raw\": true});\n",
    "    }\n",
    "}));\n",
    "\n",
    "await Deno.jupyter.html`<image src='badges/reactive-architecture-reactive-microservices-level-2.png' width='120px'/>`;"
   ]
  }
 ],
 "metadata": {
  "kernelspec": {
   "display_name": "Deno",
   "language": "typescript",
   "name": "deno"
  },
  "language_info": {
   "codemirror_mode": "typescript",
   "file_extension": ".ts",
   "mimetype": "text/x.typescript",
   "name": "typescript",
   "nbconvert_exporter": "script",
   "pygments_lexer": "typescript",
   "version": "5.9.2"
  }
 },
 "nbformat": 4,
 "nbformat_minor": 5
}
