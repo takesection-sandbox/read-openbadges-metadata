{
 "cells": [
  {
   "cell_type": "code",
   "execution_count": 30,
   "id": "4f801be0",
   "metadata": {},
   "outputs": [
    {
     "data": {
      "text/plain": [
       "\u001b[33m0\u001b[39m"
      ]
     },
     "execution_count": 30,
     "metadata": {},
     "output_type": "execute_result"
    },
    {
     "name": "stdout",
     "output_type": "stream",
     "text": [
      "openbadges\n",
      "{\"@context\":\"https://w3id.org/openbadges/v2\",\"badge\":\"https://www.credly.com/api/v1/obi/v2/issuers/7b741b5c-231d-4925-8041-c64b6846f1c8/badge_classes/c6fc4fc3-4b4c-4f95-92e2-59c29ac0e451\",\"expires\":\"2028-03-27T00:00:00.000Z\",\"evidence\":[],\"id\":\"https://www.credly.com/api/v1/obi/v2/badge_assertions/a388d729-fc22-4503-9eb8-684947932757\",\"issuedOn\":\"2025-03-27T00:00:00.000Z\",\"recipient\":{\"type\":\"email\",\"identity\":\"sha256$2421e0388ccda73437fc2d4478601ac6a65479c5ec6d71f87f969cf2f4c43a45\",\"hashed\":true},\"type\":\"Assertion\",\"verification\":{\"type\":\"hosted\"}}\n"
     ]
    }
   ],
   "source": [
    "import pngitxt from \"npm:png-itxt\";\n",
    "import fs from \"node:fs\";\n",
    "\n",
    "const stream = fs.createReadStream('badges/aws-certified-machine-learning-engineer-associate.png')\n",
    "\n",
    "stream.pipe(pngitxt.getitxt(function(err, data) {\n",
    "    if (!err && data) {\n",
    "        console.log(data.keyword);\n",
    "        console.log(data.value);\n",
    "    }\n",
    "}));\n",
    "\n",
    "0;"
   ]
  }
 ],
 "metadata": {
  "kernelspec": {
   "display_name": "Deno",
   "language": "typescript",
   "name": "deno"
  },
  "language_info": {
   "codemirror_mode": "typescript",
   "file_extension": ".ts",
   "mimetype": "text/x.typescript",
   "name": "typescript",
   "nbconvert_exporter": "script",
   "pygments_lexer": "typescript",
   "version": "5.9.2"
  }
 },
 "nbformat": 4,
 "nbformat_minor": 5
}
